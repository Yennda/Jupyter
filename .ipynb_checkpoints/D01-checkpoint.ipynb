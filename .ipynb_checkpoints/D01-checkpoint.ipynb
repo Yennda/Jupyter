{
 "cells": [
  {
   "cell_type": "code",
   "execution_count": 1,
   "metadata": {
    "collapsed": true
   },
   "outputs": [],
   "source": [
    "import numpy as np"
   ]
  },
  {
   "cell_type": "markdown",
   "metadata": {},
   "source": [
    "|DO1 |5. 1. 2018|\n",
    "|:------|:------|\n",
    "|Development time| 60s  |\n",
    "|Focus correction| 0  |\n",
    "|Dose|140 mJ|\n",
    "|Quality| Normal  |\n",
    "|Wires| 1.2 um|\n",
    "|Gaps|1.2|\n",
    "|Photoresist| only Shipley  |\n"
   ]
  },
  {
   "cell_type": "markdown",
   "metadata": {},
   "source": [
    "## 1st corner"
   ]
  },
  {
   "cell_type": "code",
   "execution_count": 3,
   "metadata": {},
   "outputs": [
    {
     "name": "stdout",
     "output_type": "stream",
     "text": [
      "Wire width: 1.107um\n"
     ]
    }
   ],
   "source": [
    "ws=[1.144, 1.095, 1.118, 1.037, 1.118, 1.130]\n",
    "print('Wire width: {:.3f}um'.format(np.average(ws)))"
   ]
  },
  {
   "cell_type": "markdown",
   "metadata": {},
   "source": [
    "## 2st corner"
   ]
  },
  {
   "cell_type": "code",
   "execution_count": 11,
   "metadata": {},
   "outputs": [
    {
     "name": "stdout",
     "output_type": "stream",
     "text": [
      "Wire width: 1.393um\n"
     ]
    }
   ],
   "source": [
    "ws=[1.459, 1.380, 1.326, 1.406]\n",
    "print('Wire width: {:.3f}um'.format(np.average(ws)))"
   ]
  },
  {
   "cell_type": "markdown",
   "metadata": {},
   "source": [
    "## 3st corner"
   ]
  },
  {
   "cell_type": "code",
   "execution_count": 12,
   "metadata": {
    "scrolled": true
   },
   "outputs": [
    {
     "name": "stdout",
     "output_type": "stream",
     "text": [
      "Wire width: 1.141um\n"
     ]
    }
   ],
   "source": [
    "ws=[1.1456, 1.145, 1.101, 1.1741, 1.160]\n",
    "print('Wire width: {:.3f}um'.format(np.average(ws)))"
   ]
  },
  {
   "cell_type": "markdown",
   "metadata": {},
   "source": [
    "## 4st corner"
   ]
  },
  {
   "cell_type": "code",
   "execution_count": 14,
   "metadata": {},
   "outputs": [
    {
     "name": "stdout",
     "output_type": "stream",
     "text": [
      "Wire width: 1.321um\n"
     ]
    }
   ],
   "source": [
    "ws=[1.270, 1.412, 1.364, 1.317, 1.223, 1.341]\n",
    "print('Wire width: {:.3f}um'.format(np.average(ws)))"
   ]
  },
  {
   "cell_type": "markdown",
   "metadata": {},
   "source": [
    "## center"
   ]
  },
  {
   "cell_type": "code",
   "execution_count": 15,
   "metadata": {},
   "outputs": [
    {
     "name": "stdout",
     "output_type": "stream",
     "text": [
      "Wire width: 1.388um\n"
     ]
    }
   ],
   "source": [
    "ws=[1.456, 1.388, 1.365, 1.317, 1.412, 1.388]\n",
    "print('Wire width: {:.3f}um'.format(np.average(ws)))"
   ]
  },
  {
   "cell_type": "code",
   "execution_count": null,
   "metadata": {
    "collapsed": true
   },
   "outputs": [],
   "source": []
  }
 ],
 "metadata": {
  "kernelspec": {
   "display_name": "Python 3",
   "language": "python",
   "name": "python3"
  },
  "language_info": {
   "codemirror_mode": {
    "name": "ipython",
    "version": 3
   },
   "file_extension": ".py",
   "mimetype": "text/x-python",
   "name": "python",
   "nbconvert_exporter": "python",
   "pygments_lexer": "ipython3",
   "version": "3.6.3"
  }
 },
 "nbformat": 4,
 "nbformat_minor": 2
}
