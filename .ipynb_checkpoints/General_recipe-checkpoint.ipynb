{
 "cells": [
  {
   "cell_type": "markdown",
   "metadata": {},
   "source": [
    "# Recipe for the extraordinerily fine wires\n",
    "Jan Bukáček, 5. 1. 2018 in Prague, Czech banana republic"
   ]
  },
  {
   "cell_type": "markdown",
   "metadata": {},
   "source": [
    "## Spin coating"
   ]
  },
  {
   "cell_type": "markdown",
   "metadata": {},
   "source": [
    "_The whole process:_\n",
    "1. __dehydrogenation__, hot plate 200°C, 10 min <\n",
    "3. place into the spin coater\n",
    "2. blow with N<sub>2</sub>\n",
    "1. __spin__ (the same setup as for the spin-coating)\n",
    "2. blow with N<sub>2</sub>\n",
    "1. $850~\\mu l$ of Shipley 1818\n",
    "1. __spin__\n",
    "1. __hot plate__ 120°C, 120s (set value 120°C)\n",
    "\n",
    "_Spin coating:_ \n",
    "* 0-6000: 4s\n",
    "* 6000rpm, 60s"
   ]
  },
  {
   "cell_type": "markdown",
   "metadata": {},
   "source": [
    "## Expostition & development"
   ]
  },
  {
   "cell_type": "markdown",
   "metadata": {},
   "source": [
    "_The whole process:_\n",
    "1. blow sample with N<sub>2</sub>\n",
    "1. place into the litograph (on the Si wafer)\n",
    "1. __expose__ (described billow or somewhere else)\n",
    "2. __hot plate__ 120°C, 60s (set value 124°C)\n",
    "1. let it cool off on the table surface for 60s\n",
    "1. __develop__, RM319, __60s__, move up and down with a frequency approx 1Hz\n",
    "1. sink into the Q-water and rince with Q-water"
   ]
  },
  {
   "cell_type": "markdown",
   "metadata": {
    "collapsed": true
   },
   "source": [
    "## Exposition"
   ]
  },
  {
   "cell_type": "markdown",
   "metadata": {},
   "source": [
    "### Normal quality:\n",
    "_6x12mm ~2 hours_\n",
    "\n",
    "* 1.2 um  140 mJ __D__\n",
    "* 1.2 um  145 mJ __D__\n",
    "* 1.0 um  145 mJ \n",
    "    \n",
    "### Super quality:\n",
    "_6x12mm ~6 hours_\n",
    "\n",
    "* 1.2 um  175 mJ \n",
    "* 1.2 um  180 mJ \n",
    "* 1 um 185 mJ __D__\n",
    "\n",
    "--------------------\n",
    "__D__ ... done\n"
   ]
  },
  {
   "cell_type": "markdown",
   "metadata": {},
   "source": [
    "## Notes"
   ]
  },
  {
   "cell_type": "markdown",
   "metadata": {},
   "source": [
    "* any different __development time__, longer or shorter is not better than 60s. The result is in this case either under- or overdeveloped\n",
    "* "
   ]
  },
  {
   "cell_type": "code",
   "execution_count": null,
   "metadata": {
    "collapsed": true
   },
   "outputs": [],
   "source": []
  }
 ],
 "metadata": {
  "kernelspec": {
   "display_name": "Python 3",
   "language": "python",
   "name": "python3"
  },
  "language_info": {
   "codemirror_mode": {
    "name": "ipython",
    "version": 3
   },
   "file_extension": ".py",
   "mimetype": "text/x-python",
   "name": "python",
   "nbconvert_exporter": "python",
   "pygments_lexer": "ipython3",
   "version": "3.6.3"
  }
 },
 "nbformat": 4,
 "nbformat_minor": 2
}
