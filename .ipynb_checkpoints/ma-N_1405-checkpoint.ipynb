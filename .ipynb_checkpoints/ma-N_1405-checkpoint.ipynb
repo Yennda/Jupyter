{
 "cells": [
  {
   "cell_type": "code",
   "execution_count": 3,
   "metadata": {
    "collapsed": true
   },
   "outputs": [],
   "source": [
    "%matplotlib inline\n",
    "\n",
    "import IPython\n",
    "import matplotlib.pyplot as plt \n",
    "import matplotlib\n",
    "\n",
    "import numpy as np\n",
    "\n",
    "import math as m"
   ]
  },
  {
   "cell_type": "code",
   "execution_count": 6,
   "metadata": {},
   "outputs": [
    {
     "data": {
      "text/plain": [
       "[<matplotlib.lines.Line2D at 0x1f87a0d7470>]"
      ]
     },
     "execution_count": 6,
     "metadata": {},
     "output_type": "execute_result"
    },
    {
     "data": {
      "image/png": "[encoded data removed]",
      "text/plain": [
       "<matplotlib.figure.Figure at 0x1f87a038828>"
      ]
     },
     "metadata": {},
     "output_type": "display_data"
    }
   ],
   "source": [
    "x = [250, 255, 260, 265, 275, 350]\n",
    "y = [980, 986, 1020, 1030, 1100, 1150]\n",
    "y2 = [2188, 2200, 2260, 2280, 2330, 2440]\n",
    "\n",
    "fig = plt.figure()\n",
    "\n",
    "axes = fig.add_axes([0.1, 0.1, 0.8, 0.8]) \n",
    "\n",
    "axes.plot(x, y)\n",
    "axes.plot(x, y2)"
   ]
  },
  {
   "cell_type": "code",
   "execution_count": null,
   "metadata": {
    "collapsed": true
   },
   "outputs": [],
   "source": [
    "x = [250, 255, 260, 265, 275, 350]\n",
    "# L01, C03, f=1/6 (...001)\n",
    "y = [\n",
    "    np.average(818, 818, 782, 800),\n",
    "    np.average(931, 990, 941, 931),\n",
    "    np.average(994, 1021, 1007, 1101),\n",
    "    np.average(1166, 1156, 1124),\n",
    "    np.avergae(1199, 1172, 1226, 1185),\n",
    "    np.average(1233, 1193, 1220, 1206)\n",
    "]\n",
    "y2 = [2188, 2200, 2260, 2280, 2330, 2440]\n",
    "\n",
    "fig = plt.figure()\n",
    "\n",
    "axes = fig.add_axes([0.1, 0.1, 0.8, 0.8]) \n",
    "\n",
    "axes.plot(x, y)\n",
    "axes.plot(x, y2)"
   ]
  }
 ],
 "metadata": {
  "kernelspec": {
   "display_name": "Python 3",
   "language": "python",
   "name": "python3"
  },
  "language_info": {
   "codemirror_mode": {
    "name": "ipython",
    "version": 3
   },
   "file_extension": ".py",
   "mimetype": "text/x-python",
   "name": "python",
   "nbconvert_exporter": "python",
   "pygments_lexer": "ipython3",
   "version": "3.6.3"
  }
 },
 "nbformat": 4,
 "nbformat_minor": 2
}
