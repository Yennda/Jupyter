{
 "cells": [
  {
   "cell_type": "code",
   "execution_count": 22,
   "metadata": {
    "collapsed": true
   },
   "outputs": [],
   "source": [
    "def gap(w, f):\n",
    "    #returns width of gap according to the desired fill-factor f and wire width w\n",
    "    return w*(1-f)/f\n",
    "\n",
    "g=lambda f: gap(1.2, f)\n",
    "\n",
    "def t_estimate(f, q='s'):\n",
    "    if q=='s':\n",
    "        return 600/0.5*f\n",
    "    elif q=='n':\n",
    "        return 122/0.5*f\n",
    "    raise Exception('no quality choosen')"
   ]
  },
  {
   "cell_type": "code",
   "execution_count": 35,
   "metadata": {},
   "outputs": [
    {
     "name": "stdout",
     "output_type": "stream",
     "text": [
      "fill factor | period [um] | super [min] | normal [min]\n",
      "f=0.01 \t 120.000 \t 12.0 \t 2.44\n",
      "f=0.02 \t 60.000 \t 24.0 \t 4.88\n",
      "f=0.04 \t 30.000 \t 48.0 \t 9.76\n",
      "f=0.08 \t 15.000 \t 96.0 \t 19.52\n",
      "f=0.16 \t 07.500 \t 192.0 \t 39.04\n",
      "f=0.32 \t 03.750 \t 384.0 \t 78.08\n",
      "f=0.64 \t 01.875 \t 768.0 \t 156.16\n"
     ]
    }
   ],
   "source": [
    "listf=[2**i/100 for i in range(0,7)]\n",
    "\n",
    "print('fill factor | period [um] | super [min] | normal [min]')\n",
    "for f in listf:\n",
    "    print('f={} \\t {:06.3f} \\t {} \\t {}'.format(f, g(f)+1.2, t_estimate(f), t_estimate(f, 'n')))"
   ]
  },
  {
   "cell_type": "code",
   "execution_count": null,
   "metadata": {
    "collapsed": true
   },
   "outputs": [],
   "source": []
  }
 ],
 "metadata": {
  "kernelspec": {
   "display_name": "Python 3",
   "language": "python",
   "name": "python3"
  },
  "language_info": {
   "codemirror_mode": {
    "name": "ipython",
    "version": 3
   },
   "file_extension": ".py",
   "mimetype": "text/x-python",
   "name": "python",
   "nbconvert_exporter": "python",
   "pygments_lexer": "ipython3",
   "version": "3.6.3"
  }
 },
 "nbformat": 4,
 "nbformat_minor": 2
}
