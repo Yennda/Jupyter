{
 "cells": [
  {
   "cell_type": "code",
   "execution_count": 1,
   "metadata": {
    "collapsed": true
   },
   "outputs": [],
   "source": [
    "def gap(w, f):\n",
    "    #returns width of gap according to the desired fill-factor f and wire width w\n",
    "    return w*(1-f)/f\n",
    "\n",
    "g=lambda f: gap(1.2, f)\n",
    "\n",
    "def t_estimate(f, q='s'):\n",
    "    if q=='s':\n",
    "        return 300/0.5*f\n",
    "    elif q=='n':\n",
    "        return 122/0.5*f\n",
    "    elif q=='nm':\n",
    "        return 54/0.4*f\n",
    "    raise Exception('no quality choosen')"
   ]
  },
  {
   "cell_type": "code",
   "execution_count": 4,
   "metadata": {},
   "outputs": [
    {
     "name": "stdout",
     "output_type": "stream",
     "text": [
      "fill factor | period [um] | super [min] | normal [min]| n. 1um [min]\n",
      "f=0.01 \t 120.000 \t 6.0 \t 2.44 \t 1.35\n",
      "f=0.02 \t 60.000 \t 12.0 \t 4.88 \t 2.7\n",
      "f=0.04 \t 30.000 \t 24.0 \t 9.76 \t 5.4\n",
      "f=0.08 \t 15.000 \t 48.0 \t 19.52 \t 10.8\n",
      "f=0.16 \t 07.500 \t 96.0 \t 39.04 \t 21.6\n",
      "f=0.32 \t 03.750 \t 192.0 \t 78.08 \t 43.2\n",
      "f=0.64 \t 01.875 \t 384.0 \t 156.16 \t 86.4\n"
     ]
    }
   ],
   "source": [
    "listf=[2**i/100 for i in range(0,7)]\n",
    "\n",
    "print('fill factor | period [um] | super [min] | normal [min]| n. 1um [min]')\n",
    "for f in listf:\n",
    "    print('f={} \\t {:06.3f} \\t {} \\t {} \\t {}'.format(f, g(f)+1.2, t_estimate(f), t_estimate(f, 'n'), t_estimate(f, 'nm')))"
   ]
  },
  {
   "cell_type": "code",
   "execution_count": 41,
   "metadata": {},
   "outputs": [
    {
     "name": "stdout",
     "output_type": "stream",
     "text": [
      "3\n",
      "19\n"
     ]
    }
   ],
   "source": [
    "print(192//60)\n",
    "print(19%60)\n"
   ]
  },
  {
   "cell_type": "code",
   "execution_count": null,
   "metadata": {
    "collapsed": true
   },
   "outputs": [],
   "source": []
  }
 ],
 "metadata": {
  "kernelspec": {
   "display_name": "Python 3",
   "language": "python",
   "name": "python3"
  },
  "language_info": {
   "codemirror_mode": {
    "name": "ipython",
    "version": 3
   },
   "file_extension": ".py",
   "mimetype": "text/x-python",
   "name": "python",
   "nbconvert_exporter": "python",
   "pygments_lexer": "ipython3",
   "version": "3.6.3"
  }
 },
 "nbformat": 4,
 "nbformat_minor": 2
}
