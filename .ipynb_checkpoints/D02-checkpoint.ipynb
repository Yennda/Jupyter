{
 "cells": [
  {
   "cell_type": "code",
   "execution_count": 1,
   "metadata": {
    "collapsed": true
   },
   "outputs": [],
   "source": [
    "import numpy as np"
   ]
  },
  {
   "cell_type": "markdown",
   "metadata": {},
   "source": [
    "|DO2 |5. 1. 2018|\n",
    "|:------|:------|\n",
    "|Dose|185 mJ|\n",
    "|Quality| Super  |\n",
    "|Wires| 1.0 um|\n",
    "|Gaps|1.4|\n",
    "|Development time| 60s  |\n",
    "|Exposure time| 294min  |\n",
    "|Focus correction| 0  |\n",
    "|Photoresist| only Shipley  |\n"
   ]
  },
  {
   "cell_type": "markdown",
   "metadata": {},
   "source": [
    "|Place|width|\n",
    "|:------|:------|\n",
    "|1| 1.048|\n",
    "|2| 1.084|\n",
    "|3| 1.072|\n",
    "|4| 1.005|\n",
    "|center| 1.349|\n"
   ]
  },
  {
   "cell_type": "markdown",
   "metadata": {},
   "source": [
    "<div style='height:600px;text-align:center'>\n",
    "<img src='images/area_6x12/D02/01.jpg', width=400, style='position:absolute;left:0px;top:0px'>\n",
    "<img src='images/area_6x12/D02/02.jpg', width=400, style='position:absolute;right:0px;top:0px'>\n",
    "<img src='images/area_6x12/D02/03.jpg', width=400, style='position:absolute;left:0px;bottom:0px'>\n",
    "<img src='images/area_6x12/D02/04.jpg', width=400, style='position:absolute;right:0px;bottom:0px'>\n",
    "<img src='images/area_6x12/D02/05.jpg', width=400, style='position:absolute;left:350px;top:100px'>\n",
    "\n",
    "\n",
    "</div>"
   ]
  },
  {
   "cell_type": "markdown",
   "metadata": {},
   "source": [
    "## 1st corner"
   ]
  },
  {
   "cell_type": "code",
   "execution_count": 2,
   "metadata": {},
   "outputs": [
    {
     "name": "stdout",
     "output_type": "stream",
     "text": [
      "Wire width: 1.048um\n",
      "Standard deviation: 0.043um\n"
     ]
    }
   ],
   "source": [
    "ws=[1.013, 1.103, 1.013, 1.080, 1.035, 1.103, 0.990]\n",
    "print('Wire width: {:.3f}um'.format(np.average(ws)))\n",
    "print('Standard deviation: {:.3f}um'.format(np.std(ws)))"
   ]
  },
  {
   "cell_type": "markdown",
   "metadata": {},
   "source": [
    "## 2st corner"
   ]
  },
  {
   "cell_type": "code",
   "execution_count": 3,
   "metadata": {},
   "outputs": [
    {
     "name": "stdout",
     "output_type": "stream",
     "text": [
      "Wire width: 1.084um\n",
      "Standard deviation: 0.047um\n"
     ]
    }
   ],
   "source": [
    "ws=[1.013, 1.154, 1.083, 1.107, 1.061]\n",
    "print('Wire width: {:.3f}um'.format(np.average(ws)))\n",
    "print('Standard deviation: {:.3f}um'.format(np.std(ws)))"
   ]
  },
  {
   "cell_type": "markdown",
   "metadata": {},
   "source": [
    "## 3st corner"
   ]
  },
  {
   "cell_type": "code",
   "execution_count": 4,
   "metadata": {
    "scrolled": true
   },
   "outputs": [
    {
     "name": "stdout",
     "output_type": "stream",
     "text": [
      "Wire width: 1.072um\n",
      "Standard deviation: 0.039um\n"
     ]
    }
   ],
   "source": [
    "ws=[1.145, 1.088, 1.115, 1.030, 1.060, 1.060, 1.030, 1.093, 1.030]\n",
    "print('Wire width: {:.3f}um'.format(np.average(ws)))\n",
    "print('Standard deviation: {:.3f}um'.format(np.std(ws)))"
   ]
  },
  {
   "cell_type": "markdown",
   "metadata": {},
   "source": [
    "## 4st corner"
   ]
  },
  {
   "cell_type": "code",
   "execution_count": 5,
   "metadata": {},
   "outputs": [
    {
     "name": "stdout",
     "output_type": "stream",
     "text": [
      "Wire width: 1.005um\n",
      "Standard deviation: 0.052um\n"
     ]
    }
   ],
   "source": [
    "ws=[1.059, 0.923, 1.005, 0.9775, 1.060]\n",
    "print('Wire width: {:.3f}um'.format(np.average(ws)))\n",
    "print('Standard deviation: {:.3f}um'.format(np.std(ws)))"
   ]
  },
  {
   "cell_type": "markdown",
   "metadata": {},
   "source": [
    "## center"
   ]
  },
  {
   "cell_type": "code",
   "execution_count": 6,
   "metadata": {},
   "outputs": [
    {
     "name": "stdout",
     "output_type": "stream",
     "text": [
      "Wire width: 1.349um\n",
      "Standard deviation: 0.041um\n"
     ]
    }
   ],
   "source": [
    "ws=[1.359, 1.312, 1.382, 1.335, 1.312, 1.312, 1.428]\n",
    "print('Wire width: {:.3f}um'.format(np.average(ws)))\n",
    "print('Standard deviation: {:.3f}um'.format(np.std(ws)))"
   ]
  },
  {
   "cell_type": "code",
   "execution_count": null,
   "metadata": {
    "collapsed": true
   },
   "outputs": [],
   "source": []
  },
  {
   "cell_type": "code",
   "execution_count": null,
   "metadata": {
    "collapsed": true
   },
   "outputs": [],
   "source": []
  }
 ],
 "metadata": {
  "kernelspec": {
   "display_name": "Python 3",
   "language": "python",
   "name": "python3"
  },
  "language_info": {
   "codemirror_mode": {
    "name": "ipython",
    "version": 3
   },
   "file_extension": ".py",
   "mimetype": "text/x-python",
   "name": "python",
   "nbconvert_exporter": "python",
   "pygments_lexer": "ipython3",
   "version": "3.6.3"
  }
 },
 "nbformat": 4,
 "nbformat_minor": 2
}
