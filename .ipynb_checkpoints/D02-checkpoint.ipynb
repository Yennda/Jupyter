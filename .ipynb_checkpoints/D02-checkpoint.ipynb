{
 "cells": [
  {
   "cell_type": "code",
   "execution_count": 2,
   "metadata": {
    "collapsed": true
   },
   "outputs": [],
   "source": [
    "import numpy as np"
   ]
  },
  {
   "cell_type": "markdown",
   "metadata": {},
   "source": [
    "|DO2or3 |5. 1. 2018|\n",
    "|:------|:------|\n",
    "|Development time| 60s  |\n",
    "|Focus correction| 0  |\n",
    "|Dose|185 mJ|\n",
    "|Quality| Super  |\n",
    "|Wires| 1.0 um|\n",
    "|Gaps|1.4|\n",
    "|Photoresist| only Shipley  |\n"
   ]
  },
  {
   "cell_type": "markdown",
   "metadata": {},
   "source": [
    "## 1st corner"
   ]
  },
  {
   "cell_type": "code",
   "execution_count": 3,
   "metadata": {},
   "outputs": [
    {
     "name": "stdout",
     "output_type": "stream",
     "text": [
      "Wire width: 1.048um\n"
     ]
    }
   ],
   "source": [
    "ws=[1.013, 1.103, 1.013, 1.080, 1.035, 1.103, 0.990]\n",
    "print('Wire width: {:.3f}um'.format(np.average(ws)))"
   ]
  },
  {
   "cell_type": "markdown",
   "metadata": {},
   "source": [
    "## 2st corner"
   ]
  },
  {
   "cell_type": "code",
   "execution_count": 4,
   "metadata": {},
   "outputs": [
    {
     "name": "stdout",
     "output_type": "stream",
     "text": [
      "Wire width: 1.084um\n"
     ]
    }
   ],
   "source": [
    "ws=[1.013, 1.154, 1.083, 1.107, 1.061]\n",
    "print('Wire width: {:.3f}um'.format(np.average(ws)))"
   ]
  },
  {
   "cell_type": "markdown",
   "metadata": {},
   "source": [
    "## 3st corner"
   ]
  },
  {
   "cell_type": "code",
   "execution_count": 11,
   "metadata": {
    "scrolled": true
   },
   "outputs": [
    {
     "name": "stdout",
     "output_type": "stream",
     "text": [
      "Wire width: 1.072um\n"
     ]
    }
   ],
   "source": [
    "ws=[1.145, 1.088, 1.115, 1.030, 1.060, 1.060, 1.030, 1.093, 1.030]\n",
    "print('Wire width: {:.3f}um'.format(np.average(ws)))"
   ]
  },
  {
   "cell_type": "markdown",
   "metadata": {},
   "source": [
    "## 4st corner"
   ]
  },
  {
   "cell_type": "code",
   "execution_count": 10,
   "metadata": {},
   "outputs": [
    {
     "name": "stdout",
     "output_type": "stream",
     "text": [
      "Wire width: 1.005um\n"
     ]
    }
   ],
   "source": [
    "ws=[1.059, 0.923, 1.005, 0.9775, 1.060]\n",
    "print('Wire width: {:.3f}um'.format(np.average(ws)))"
   ]
  },
  {
   "cell_type": "markdown",
   "metadata": {},
   "source": [
    "## center"
   ]
  },
  {
   "cell_type": "code",
   "execution_count": 14,
   "metadata": {},
   "outputs": [
    {
     "name": "stdout",
     "output_type": "stream",
     "text": [
      "Wire width: 1.349um\n"
     ]
    }
   ],
   "source": [
    "ws=[1.359, 1.312, 1.382, 1.335, 1.312, 1.312, 1.428]\n",
    "print('Wire width: {:.3f}um'.format(np.average(ws)))"
   ]
  },
  {
   "cell_type": "code",
   "execution_count": null,
   "metadata": {
    "collapsed": true
   },
   "outputs": [],
   "source": []
  },
  {
   "cell_type": "code",
   "execution_count": null,
   "metadata": {
    "collapsed": true
   },
   "outputs": [],
   "source": []
  }
 ],
 "metadata": {
  "kernelspec": {
   "display_name": "Python 3",
   "language": "python",
   "name": "python3"
  },
  "language_info": {
   "codemirror_mode": {
    "name": "ipython",
    "version": 3
   },
   "file_extension": ".py",
   "mimetype": "text/x-python",
   "name": "python",
   "nbconvert_exporter": "python",
   "pygments_lexer": "ipython3",
   "version": "3.6.3"
  }
 },
 "nbformat": 4,
 "nbformat_minor": 2
}
