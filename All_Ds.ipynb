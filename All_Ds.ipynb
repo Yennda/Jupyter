{
 "cells": [
  {
   "cell_type": "markdown",
   "metadata": {},
   "source": [
    "## Comparison of all the samples from \"D series\""
   ]
  },
  {
   "cell_type": "markdown",
   "metadata": {},
   "source": [
    "|Place|D05|D04|D02|D01|\n",
    "|:------|:------|:------|:------|\n",
    "|__Quality,mJ__|N145|S175 (1.2)|S185 (1.0)|N140|\n",
    "|1| 1.087| 0.626| 1.048| 1.107|\n",
    "|2| 1.122| 1.010| 1.084| 1.393|\n",
    "|3| 1.255| 1.181| 1.072| 1.145|\n",
    "|4| 1.275| 1.145| 1.005| 1.321|\n",
    "|center| 1.348| 1.423| 1.349 (1.396)| 1.388|\n"
   ]
  },
  {
   "cell_type": "markdown",
   "metadata": {},
   "source": [
    "## C04\n",
    "* 8 days old photoresist\n",
    "* the same exposure parameters as __D05__\n",
    "\n",
    "## D01\n",
    "* \n",
    "* 1.388 um \n",
    "\n",
    "_Questions:_\n",
    "* Widths compared with __D05__? Is it wider or thiner? But in the center, not in the corners!!!\n",
    "\n",
    "## D02\n",
    "* quite nice quality all over the area\n",
    "* not so big \"10px\" periodicity\n",
    "* 1.349 um\n",
    "\n",
    "## D04\n",
    "* significatnt \"10px\" periodicity\n",
    "* bad quality in the corners (maybe due to imperfect spin-coat)\n",
    "* 1.423 um\n",
    "\n",
    "## D05\n",
    "* \n",
    "* 1.348 um\n",
    "\n",
    "## Normal x Super Quality\n",
    "* Normal: less 10px periodicity, more disrupted sides\n",
    "* Super: more 10px periodicity, smoother sides"
   ]
  },
  {
   "cell_type": "markdown",
   "metadata": {},
   "source": [
    "------------------------\n",
    "\n",
    "-------------------"
   ]
  },
  {
   "cell_type": "markdown",
   "metadata": {},
   "source": [
    "# The most wretched hypothesis of 2018\n",
    "Probably not only the widths of the gaps but also of the wires were contracted in the SEM. Therefore all the created samples have the wires wider, than they were intended.\n",
    "\n",
    "What was seen in the SEM as 1.2 um wide is in fact about 1.35 um wide."
   ]
  },
  {
   "cell_type": "code",
   "execution_count": 1,
   "metadata": {
    "collapsed": true
   },
   "outputs": [],
   "source": [
    "import numpy as np"
   ]
  },
  {
   "cell_type": "code",
   "execution_count": 14,
   "metadata": {},
   "outputs": [
    {
     "name": "stdout",
     "output_type": "stream",
     "text": [
      "1.35211267606\n",
      "1.065\n"
     ]
    }
   ],
   "source": [
    "#data from the file lm_vs_sem.ipynb\n",
    "m=np.average([2.11, 2.06, 2.24, 2.15, 2.09])\n",
    "x=m/2.4\n",
    "print(1.2/x)\n",
    "print(1.2*x)"
   ]
  },
  {
   "cell_type": "markdown",
   "metadata": {},
   "source": [
    "## Solution??\n",
    "* look for 1.065 um wide wires\n",
    "* do the SEM before lift-off"
   ]
  },
  {
   "cell_type": "code",
   "execution_count": null,
   "metadata": {
    "collapsed": true
   },
   "outputs": [],
   "source": []
  }
 ],
 "metadata": {
  "kernelspec": {
   "display_name": "Python 3",
   "language": "python",
   "name": "python3"
  },
  "language_info": {
   "codemirror_mode": {
    "name": "ipython",
    "version": 3
   },
   "file_extension": ".py",
   "mimetype": "text/x-python",
   "name": "python",
   "nbconvert_exporter": "python",
   "pygments_lexer": "ipython3",
   "version": "3.6.3"
  }
 },
 "nbformat": 4,
 "nbformat_minor": 2
}
