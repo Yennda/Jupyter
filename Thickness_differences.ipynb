{
 "cells": [
  {
   "cell_type": "markdown",
   "metadata": {},
   "source": [
    "# The cause of difference in the thickness of photoresist layer\n",
    "\n",
    "\n",
    "$\\Delta$ ... delay between cleaning and spin-coating of the sample"
   ]
  },
  {
   "cell_type": "markdown",
   "metadata": {},
   "source": [
    "## B\n",
    "* $\\Delta = ???~days$ \n",
    "* approx. 1120\n",
    "## C\n",
    "* $\\Delta = 2~days$ \n",
    "* significant increase for latter samples \n",
    "> C01 1117 um   \n",
    "> C08 1203 um\n",
    "\n",
    "## D\n",
    "* $\\Delta = 6~days$\n",
    "* all the samples approx. 1200 um\n",
    "\n",
    "## E\n",
    "* $\\Delta = 2~days$\n",
    "* all the samples approx. 1200 um\n",
    "\n",
    "## F\n",
    "* $\\Delta = 7~days$\n",
    "* all the samples approx. 1200 um\n",
    "\n",
    "## G\n",
    "* $\\Delta = 1~day$\n",
    "* all the samples approx. 1080 um\n",
    "\n",
    "## H\n",
    "* $\\Delta = 1~day$\n",
    "* ramp for 6000rpm 0s instead of 1s\n"
   ]
  },
  {
   "cell_type": "code",
   "execution_count": null,
   "metadata": {
    "collapsed": true
   },
   "outputs": [],
   "source": []
  }
 ],
 "metadata": {
  "kernelspec": {
   "display_name": "Python 3",
   "language": "python",
   "name": "python3"
  },
  "language_info": {
   "codemirror_mode": {
    "name": "ipython",
    "version": 3
   },
   "file_extension": ".py",
   "mimetype": "text/x-python",
   "name": "python",
   "nbconvert_exporter": "python",
   "pygments_lexer": "ipython3",
   "version": "3.6.3"
  }
 },
 "nbformat": 4,
 "nbformat_minor": 2
}
