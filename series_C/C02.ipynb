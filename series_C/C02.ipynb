{
 "cells": [
  {
   "cell_type": "markdown",
   "metadata": {},
   "source": [
    "|CO2 |8. 12. 2017|\n",
    "|:------|:------|\n",
    "|Development time| 60s  |\n",
    "|Focus correction| 0  |\n",
    "|Type|dose test of 6 mm wires|\n",
    "|Photoresist| only Shipley  |\n",
    "|Quality| Super  |\n",
    "\n"
   ]
  },
  {
   "cell_type": "markdown",
   "metadata": {},
   "source": [
    "### The whole sample:\n",
    "\n",
    "--------------------\n",
    "|row:|[mJ] |  \n",
    "|------:|------:|\n",
    "|11\\. |200 |  \n",
    "|10\\. |195|   \n",
    "|9\\.  |190| \n",
    "|8\\.  |185|   \n",
    "|7\\.  |180|   \n",
    "|6\\.  |175|   \n",
    "|... | ... |\n",
    "|1\\.  |150|     \n",
    "\n",
    "--------------------\n",
    "\n",
    "\n",
    "### One unit:\n",
    "|row| wires|rendered|\n",
    "|------:|------:|------:|\n",
    "|1 | 1.0 um  | 1.0 um  |\n",
    "|2 | 1.0 um |  1.0 um  |\n",
    "|3 | 0.8 um | 0.8 um  |\n",
    "\n",
    "----------------------\n",
    "\n",
    "__NB. in all three cases, the total width of wire and gap was set to 2.4um__\n"
   ]
  },
  {
   "cell_type": "code",
   "execution_count": 24,
   "metadata": {
    "collapsed": true
   },
   "outputs": [],
   "source": [
    "import numpy as np"
   ]
  },
  {
   "cell_type": "code",
   "execution_count": 26,
   "metadata": {},
   "outputs": [],
   "source": [
    "\n",
    "widths=[\n",
    "    [1.287, 1.368, 1.246],\n",
    "    [1.320, 1.387, 1.320, 1.275, 1.365],\n",
    "    [1.373, 1.319, 1.36, 1.239, 1.319, 1.266],\n",
    "    [1.252, 1.265, 1.346, 1.225],\n",
    "    [1.239, 1.252, 1.259, 1.239],\n",
    "    [1.239, 1.266, 1.185, 1.185, 1.198, 1.1772, 1.158, 1.293],\n",
    "    [1.172, 1.265, 1.185, 1.225, 1.144, 1.198, 1.185, 1.098],\n",
    "    [1.185, 1.144, 1.185, 1.185, 1.158, 1.117, 1.158],\n",
    "    [1.117, 1.064, 1.077, 1.077, 1.091, 1.077],\n",
    "    [1.010, 1.064, 1.050],\n",
    "    [0.985, 1.074]\n",
    "]\n",
    "widths8=[\n",
    "    [985, 1074],\n",
    "    [1052, 1091, 1052],\n",
    "    [1064, 1037, 1050, 1091],\n",
    "    [996, 1077, 1023, 1104],\n",
    "    [1010, 982, 1091, 942],\n",
    "    [915, 942, 929, 956],\n",
    "    [862, 889, 875, 970],\n",
    "    [875, 861, 929],\n",
    "    [795, 808, 861, 834],\n",
    "    [714, 767, 740, 868],\n",
    "]"
   ]
  },
  {
   "cell_type": "code",
   "execution_count": 30,
   "metadata": {},
   "outputs": [
    {
     "name": "stdout",
     "output_type": "stream",
     "text": [
      "1.0 um wires\n",
      "row|dose|widths|std\n",
      "11.\t200 mJ\t1.300\t0.051\n",
      "10.\t195 mJ\t1.333\t0.039\n",
      "9.\t190 mJ\t1.313\t0.048\n",
      "8.\t185 mJ\t1.272\t0.045\n",
      "7.\t180 mJ\t1.247\t0.009\n",
      "6.\t175 mJ\t1.213\t0.045\n",
      "5.\t170 mJ\t1.184\t0.047\n",
      "4.\t165 mJ\t1.162\t0.024\n",
      "3.\t160 mJ\t1.084\t0.017\n",
      "2.\t155 mJ\t1.041\t0.023\n",
      "1.\t150 mJ\t1.030\t0.045\n"
     ]
    }
   ],
   "source": [
    "print('1.0 um wires')\n",
    "print('row|dose|widths|std')\n",
    "for i in range(len(widths)):\n",
    "    print('{}.\\t{} mJ\\t{:.3f}\\t{:.3f}'.format(11-i, 200-i*5, np.average(widths[i]), np.std(widths[i])))"
   ]
  },
  {
   "cell_type": "code",
   "execution_count": 31,
   "metadata": {},
   "outputs": [
    {
     "name": "stdout",
     "output_type": "stream",
     "text": [
      "0.8 um wires\n",
      "row|dose|widths|std\n",
      "11.\t200 mJ\t1029.5\t44.5\n",
      "10.\t195 mJ\t1065.0\t18.4\n",
      "9.\t190 mJ\t1060.5\t20.0\n",
      "8.\t185 mJ\t1050.0\t42.7\n",
      "7.\t180 mJ\t1006.2\t54.6\n",
      "6.\t175 mJ\t935.5\t15.2\n",
      "5.\t170 mJ\t899.0\t42.1\n",
      "4.\t165 mJ\t888.3\t29.3\n",
      "3.\t160 mJ\t824.5\t25.3\n",
      "2.\t155 mJ\t772.2\t58.4\n"
     ]
    }
   ],
   "source": [
    "print('0.8 um wires')\n",
    "print('row|dose|widths|std')\n",
    "for i in range(len(widths8)):\n",
    "    print('{}.\\t{} mJ\\t{:.1f}\\t{:.1f}'.format(11-i, 200-i*5, np.average(widths8[i]), np.std(widths8[i])))"
   ]
  },
  {
   "cell_type": "code",
   "execution_count": null,
   "metadata": {
    "collapsed": true
   },
   "outputs": [],
   "source": []
  }
 ],
 "metadata": {
  "kernelspec": {
   "display_name": "Python 3",
   "language": "python",
   "name": "python3"
  },
  "language_info": {
   "codemirror_mode": {
    "name": "ipython",
    "version": 3
   },
   "file_extension": ".py",
   "mimetype": "text/x-python",
   "name": "python",
   "nbconvert_exporter": "python",
   "pygments_lexer": "ipython3",
   "version": "3.6.3"
  }
 },
 "nbformat": 4,
 "nbformat_minor": 2
}
