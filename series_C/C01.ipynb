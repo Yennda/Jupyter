{
 "cells": [
  {
   "cell_type": "markdown",
   "metadata": {},
   "source": [
    "# C01\n",
    "### The basic dose, quality and width test for 0.6 and 1.2 um wires"
   ]
  },
  {
   "cell_type": "markdown",
   "metadata": {},
   "source": [
    "|CO1 |7. 12. 2017|\n",
    "|:------|:------|\n",
    "|Development time| 60s  |\n",
    "|Focus correction| 0  |\n",
    "|Type|dose and quality test|\n",
    "|Photoresist| only Shipley  |\n",
    "|Quality| Normal  |"
   ]
  },
  {
   "cell_type": "raw",
   "metadata": {},
   "source": [
    "The whole sample:\n",
    "---------------------------------\n",
    "    NORMAL Q. 120-160 mJ \n",
    "20, 25, 30, 35, 40, 45, 50, 55, 60\n",
    "---------------------------------\n",
    "\n",
    "---------------------------------\n",
    "    SUPER Q. 200-240 mJ \n",
    "---------------------------------\n",
    "\n",
    "---------------------------------\n",
    "    SUPER Q. 160-200 mJ \n",
    "60, 65, 70, 75, 80, 85, 90, 95, 200\n",
    "---------------------------------\n",
    "\n",
    "One unit:\n",
    "1.2 um\n",
    "1.0 um\n",
    "0.6 um"
   ]
  },
  {
   "cell_type": "markdown",
   "metadata": {},
   "source": [
    "# Ideal parameters from SEM"
   ]
  },
  {
   "cell_type": "raw",
   "metadata": {},
   "source": [
    "Super quality:\n",
    "    1.0 um 175 mJ (C04)\n",
    "    1.2 um bellow 160 mJ (C01)\n",
    "    \n",
    "    for 1.0 um\n",
    "    1.0 um 160 mJ (C01)\n",
    "    \n",
    "Normal quality:  \n",
    "    1.2 um 125 mJ (C02) #or less, because the C01 was unstable maybe because of the cahnge in the photoresist layer"
   ]
  }
 ],
 "metadata": {
  "kernelspec": {
   "display_name": "Python 3",
   "language": "python",
   "name": "python3"
  },
  "language_info": {
   "codemirror_mode": {
    "name": "ipython",
    "version": 3
   },
   "file_extension": ".py",
   "mimetype": "text/x-python",
   "name": "python",
   "nbconvert_exporter": "python",
   "pygments_lexer": "ipython3",
   "version": "3.6.3"
  }
 },
 "nbformat": 4,
 "nbformat_minor": 2
}
