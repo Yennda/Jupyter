{
 "cells": [
  {
   "cell_type": "markdown",
   "metadata": {},
   "source": [
    "# C03"
   ]
  },
  {
   "cell_type": "markdown",
   "metadata": {},
   "source": [
    "|CO3 |8. 12. 2017|\n",
    "|:------|:------|\n",
    "|Development time| 60s  |\n",
    "|Focus correction| 0  |\n",
    "|Type|dose test of 6 mm wires|\n",
    "|Photoresist| only Shipley  |\n",
    "|Quality| Normal  |\n",
    "\n"
   ]
  },
  {
   "cell_type": "markdown",
   "metadata": {},
   "source": [
    "### The whole sample:\n",
    "\n",
    "--------------------\n",
    "|row:|[mJ] |  \n",
    "|------:|------:|\n",
    "|11\\. |160 |  \n",
    "|10\\. |155|   \n",
    "|9\\.  |150| \n",
    "|8\\.  |145|   \n",
    "|7\\.  |140|   \n",
    "|6\\.  |135|   \n",
    "|... | ... |\n",
    "|1\\.  |120|     \n",
    "\n",
    "--------------------\n",
    "\n",
    "\n",
    "### One unit:\n",
    "|row| wires|rendered|\n",
    "|------:|------:|------:|\n",
    "|1 | 1.0 um  | 1.2 um  |\n",
    "|2 | 1.0 um |  1.2 um  |\n",
    "|3 | 0.8 um | 0.6 um  |\n",
    "\n",
    "----------------------\n",
    "\n",
    "__NB. in all three cases, the total width of wire and gap was set to 2.4um__\n"
   ]
  },
  {
   "cell_type": "markdown",
   "metadata": {},
   "source": [
    "# The best parameters"
   ]
  },
  {
   "cell_type": "markdown",
   "metadata": {},
   "source": [
    "* Data come from the light microscope. The SEM appeared to be useless\n",
    "* __!!! The intended 1.2 wires are also 1.0 due to a mistake !!!__\n",
    "* in fact, the Normal quality interprets 1.0 as 1.2"
   ]
  },
  {
   "cell_type": "raw",
   "metadata": {},
   "source": [
    "for 1.2 wires, Normal quality\n",
    "    1.0 um 130um"
   ]
  }
 ],
 "metadata": {
  "kernelspec": {
   "display_name": "Python 3",
   "language": "python",
   "name": "python3"
  },
  "language_info": {
   "codemirror_mode": {
    "name": "ipython",
    "version": 3
   },
   "file_extension": ".py",
   "mimetype": "text/x-python",
   "name": "python",
   "nbconvert_exporter": "python",
   "pygments_lexer": "ipython3",
   "version": "3.6.3"
  }
 },
 "nbformat": 4,
 "nbformat_minor": 2
}
