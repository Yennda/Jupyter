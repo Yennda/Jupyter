{
 "cells": [
  {
   "cell_type": "markdown",
   "metadata": {},
   "source": [
    "|CO5 |15. 12. 2017|\n",
    "|:------|:------|\n",
    "|Development time| 60s  |\n",
    "|Focus correction| 0  |\n",
    "|Type|dose test of 6 mm wires|\n",
    "|Photoresist| only Shipley  |\n",
    "|Quality| Normal  |\n",
    "\n"
   ]
  },
  {
   "cell_type": "markdown",
   "metadata": {},
   "source": [
    "### The whole sample:\n",
    "\n",
    "--------------------\n",
    "|row:|[mJ] |  \n",
    "|------:|------:|\n",
    "|11\\. |160 |  \n",
    "|10\\. |155|   \n",
    "|9\\.  |150| \n",
    "|8\\.  |145|   \n",
    "|7\\.  |140|   \n",
    "|6\\.  |135|   \n",
    "|... | ... |\n",
    "|1\\.  |120|     \n",
    "\n",
    "--------------------\n",
    "\n",
    "\n",
    "### One unit:\n",
    "|row| wires|rendered|\n",
    "|------:|------:|------:|\n",
    "|1 | 1.0 um  | 1.2 um  |\n",
    "|2 | 1.0 um |  1.2 um  |\n",
    "|3 | 0.8 um | 0.6 um  |\n",
    "\n",
    "----------------------\n",
    "\n",
    "__NB. in all three cases, the total width of wire and gap was set to 2.4um__\n"
   ]
  },
  {
   "cell_type": "code",
   "execution_count": 15,
   "metadata": {},
   "outputs": [],
   "source": [
    "import numpy as np\n",
    "\n",
    "\n",
    "widths=[\n",
    "    [1.460, 1.446, 1.446],\n",
    "    [1.417, 1.417, 1.518, 1.359],\n",
    "    [1.489, 1.402, 1.374, 1.475, 1.461],\n",
    "    [1.391, 1.420, 1.382],\n",
    "    [1.363, 1.346, 1.326, 1.373],\n",
    "    [1.391, 1.363, 1.326, 1.401],\n",
    "    [1.270, 1.354, 1.354, 1.382, 1.410],\n",
    "    [1.261, 1.289, 1.307, 1.373, 1.307],\n",
    "    [1.261, 1.205, 1.214, 1.233, 1.214, 1.270, 1.261, 1.223, 1.223, 1.177, 1.205],\n",
    "    [1.167, 1.177, 1.167, 1.177, 1.177, 1.214],\n",
    "    [1.082, 1.191, 1.191, 1.160, 0.972]\n",
    "]\n",
    "\n",
    "widths6=[\n",
    "    [766, 751, 720, 781, 781],\n",
    "    [766, 708, 752, 795],\n",
    "    [766, 709, 709, 780],\n",
    "    [710, 691, 719],\n",
    "    [728, 700, 700, 719],\n",
    "    [700, 691, 681, 541, 672],\n",
    "    [654, 607, 653, 626, 645],\n",
    "    [429, 550, 551, 598, 510, 598]\n",
    "]"
   ]
  },
  {
   "cell_type": "code",
   "execution_count": 16,
   "metadata": {},
   "outputs": [
    {
     "name": "stdout",
     "output_type": "stream",
     "text": [
      "row|dose|widths|std\n",
      "11.\t160 mJ\t1.451\t0.007\n",
      "10.\t155 mJ\t1.428\t0.057\n",
      "9.\t150 mJ\t1.440\t0.044\n",
      "8.\t145 mJ\t1.398\t0.016\n",
      "7.\t140 mJ\t1.352\t0.018\n",
      "6.\t135 mJ\t1.370\t0.029\n",
      "5.\t130 mJ\t1.354\t0.047\n",
      "4.\t125 mJ\t1.307\t0.037\n",
      "3.\t120 mJ\t1.226\t0.027\n",
      "2.\t115 mJ\t1.180\t0.016\n",
      "1.\t110 mJ\t1.119\t0.084\n"
     ]
    }
   ],
   "source": [
    "print('row|dose|widths|std')\n",
    "for i in range(len(widths)):\n",
    "    print('{}.\\t{} mJ\\t{:.3f}\\t{:.3f}'.format(11-i, 160-i*5, np.average(widths[i]), np.std(widths[i])))"
   ]
  },
  {
   "cell_type": "code",
   "execution_count": 17,
   "metadata": {},
   "outputs": [
    {
     "name": "stdout",
     "output_type": "stream",
     "text": [
      "row|dose|widths|std\n",
      "11.\t160 mJ\t759.8\t22.8\n",
      "10.\t155 mJ\t755.2\t31.4\n",
      "9.\t150 mJ\t741.0\t32.4\n",
      "8.\t145 mJ\t706.7\t11.7\n",
      "7.\t140 mJ\t711.8\t12.2\n",
      "6.\t135 mJ\t657.0\t58.8\n",
      "5.\t130 mJ\t637.0\t18.1\n",
      "4.\t125 mJ\t539.3\t58.0\n"
     ]
    }
   ],
   "source": [
    "print('row|dose|widths|std')\n",
    "for i in range(len(widths6)):\n",
    "    print('{}.\\t{} mJ\\t{:.1f}\\t{:.1f}'.format(11-i, 160-i*5, np.average(widths6[i]), np.std(widths6[i])))"
   ]
  },
  {
   "cell_type": "code",
   "execution_count": null,
   "metadata": {
    "collapsed": true
   },
   "outputs": [],
   "source": []
  }
 ],
 "metadata": {
  "kernelspec": {
   "display_name": "Python 3",
   "language": "python",
   "name": "python3"
  },
  "language_info": {
   "codemirror_mode": {
    "name": "ipython",
    "version": 3
   },
   "file_extension": ".py",
   "mimetype": "text/x-python",
   "name": "python",
   "nbconvert_exporter": "python",
   "pygments_lexer": "ipython3",
   "version": "3.6.3"
  }
 },
 "nbformat": 4,
 "nbformat_minor": 2
}
