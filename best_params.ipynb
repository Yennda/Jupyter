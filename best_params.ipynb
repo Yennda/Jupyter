{
 "cells": [
  {
   "cell_type": "markdown",
   "metadata": {},
   "source": [
    "# 600 nm laser"
   ]
  },
  {
   "cell_type": "markdown",
   "metadata": {},
   "source": [
    "## C01"
   ]
  },
  {
   "cell_type": "raw",
   "metadata": {},
   "source": [
    "Super quality:\n",
    "    1.0 um 175 mJ (C04)\n",
    "    1.2 um bellow 160 mJ (C01)\n",
    "    \n",
    "    for 1.0 um\n",
    "    1.0 um 160 mJ (C01)\n",
    "    \n",
    "Normal quality:  \n",
    "    1.2 um 125 mJ (C02) #or less, because the C01 was unstable maybe because of the change in the photoresist layer"
   ]
  },
  {
   "cell_type": "markdown",
   "metadata": {},
   "source": [
    "## C03"
   ]
  },
  {
   "cell_type": "raw",
   "metadata": {},
   "source": [
    "Normal quality\n",
    "    1.0 <=> 1.2 um 130 mJ (R04) # the dose might be lower because of 1 day difference between the exposition (from LM)"
   ]
  },
  {
   "cell_type": "markdown",
   "metadata": {},
   "source": [
    "## C02"
   ]
  },
  {
   "cell_type": "raw",
   "metadata": {},
   "source": [
    "Super quality\n",
    "    1.0 170-175 mJ (R05-6) => 1.85-1.21 um"
   ]
  },
  {
   "cell_type": "markdown",
   "metadata": {},
   "source": [
    "## C05"
   ]
  },
  {
   "cell_type": "raw",
   "metadata": {},
   "source": [
    "Normal quality\n",
    "    1.0 <=> 1.2 um 115-120 mJ (R02-3) => 1.80-1.226 um\n",
    "    too rough"
   ]
  },
  {
   "cell_type": "markdown",
   "metadata": {},
   "source": [
    "# Conclusion\n",
    "\n",
    "## Normal 1.2\n",
    "* Draw 1. or 1.2 lines\n",
    "* 115 mJ\n",
    "\n",
    "## Super 1.2\n",
    "* Draw 1.0 lines\n",
    "* 170 mJ"
   ]
  },
  {
   "cell_type": "markdown",
   "metadata": {},
   "source": [
    "# 1 um laser"
   ]
  },
  {
   "cell_type": "markdown",
   "metadata": {
    "collapsed": true
   },
   "source": [
    "## F03"
   ]
  },
  {
   "cell_type": "raw",
   "metadata": {},
   "source": [
    "Normal quality\n",
    "    1.0 um 190mJ (f=0.25) 180mJ (f=0.5)\n",
    "    1.2 um 205< mJ (f=0.25) 205-210mJ (f=0.5)\n",
    "Super quality\n",
    "    250<< mJ"
   ]
  }
 ],
 "metadata": {
  "kernelspec": {
   "display_name": "Python 3",
   "language": "python",
   "name": "python3"
  },
  "language_info": {
   "codemirror_mode": {
    "name": "ipython",
    "version": 3
   },
   "file_extension": ".py",
   "mimetype": "text/x-python",
   "name": "python",
   "nbconvert_exporter": "python",
   "pygments_lexer": "ipython3",
   "version": "3.6.3"
  }
 },
 "nbformat": 4,
 "nbformat_minor": 2
}
