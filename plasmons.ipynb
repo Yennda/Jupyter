{
 "cells": [
  {
   "cell_type": "code",
   "execution_count": 1,
   "metadata": {
    "collapsed": true
   },
   "outputs": [],
   "source": [
    "import math as m"
   ]
  },
  {
   "cell_type": "markdown",
   "metadata": {},
   "source": [
    "# Results from Matlab simulation\n",
    "\n",
    "> `fill factors = [1 2 4 8 16 32 66] %in procents\n",
    "wire_height_tot=0.05;\n",
    "wire_width_tot=1.2;\n",
    "minimum_wavelength=0.5; %um\n",
    "maximum_wavelength=1.2; %um\n",
    "step=0.001; %0.002\n",
    "number_of_orders=101;\n",
    "minimum_angle=65; % theta [degree] \n",
    "maximum_angle=89; % theta [degree]\n",
    "step_angle=0.5;`"
   ]
  },
  {
   "cell_type": "markdown",
   "metadata": {},
   "source": [
    "### f = 0.66\n",
    "<img src='matlab/results_wires_height50width1200f66.png'>"
   ]
  },
  {
   "cell_type": "markdown",
   "metadata": {},
   "source": [
    "75 - 80° \n",
    "> 600, 680, 1000 nm\n",
    "\n",
    "65 - 70°\n",
    "> (500, 700), (800, 1050), (1150, ) nm"
   ]
  },
  {
   "cell_type": "markdown",
   "metadata": {},
   "source": [
    "### f = 0.32\n",
    "<img src='matlab/results_wires_height50width1200f32.png'>"
   ]
  },
  {
   "cell_type": "markdown",
   "metadata": {},
   "source": [
    "82.5° \n",
    "> 570, 650, 960 nm\n",
    "\n",
    "75 - 80° \n",
    "> 580, 670, (900, 1100) nm\n",
    "\n",
    "65 - 70°\n",
    "> (500, 700) nm"
   ]
  },
  {
   "cell_type": "markdown",
   "metadata": {},
   "source": [
    "### f = 0.16\n",
    "<img src='matlab/results_wires_height50width1200f16.png'>"
   ]
  },
  {
   "cell_type": "markdown",
   "metadata": {},
   "source": [
    "### f = 0.08\n",
    "<img src='matlab/results_wires_height50width1200f8.png'>"
   ]
  },
  {
   "cell_type": "markdown",
   "metadata": {},
   "source": [
    "### f = 0.04\n",
    "<img src='matlab/results_wires_height50width1200f4.png'>"
   ]
  },
  {
   "cell_type": "markdown",
   "metadata": {},
   "source": [
    "### f = 0.02\n",
    "<img src='matlab/results_wires_height50width1200f2.png'>"
   ]
  },
  {
   "cell_type": "markdown",
   "metadata": {},
   "source": [
    "### f = 0.01\n",
    "<img src='matlab/results_wires_height50width1200f1.png'>"
   ]
  }
 ],
 "metadata": {
  "kernelspec": {
   "display_name": "Python 3",
   "language": "python",
   "name": "python3"
  },
  "language_info": {
   "codemirror_mode": {
    "name": "ipython",
    "version": 3
   },
   "file_extension": ".py",
   "mimetype": "text/x-python",
   "name": "python",
   "nbconvert_exporter": "python",
   "pygments_lexer": "ipython3",
   "version": "3.6.3"
  }
 },
 "nbformat": 4,
 "nbformat_minor": 2
}
