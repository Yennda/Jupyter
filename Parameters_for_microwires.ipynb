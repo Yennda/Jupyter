{
 "cells": [
  {
   "cell_type": "markdown",
   "metadata": {},
   "source": [
    "# How to produce microwires\n",
    "\n",
    "The experimentaly obtained parameters for a fabrication of $1.2~\\mu m$ wide and $6~mm$ long wires, forming the ractangular area $6 x 12~mm$.\n",
    "As a substrate serves __glass__. The __Shipley 1818__ photoresist was applied. The complete process of sample preparation is described in a different file.\n"
   ]
  },
  {
   "cell_type": "markdown",
   "metadata": {},
   "source": [
    "## 1.2 um wires\n",
    "### Using 600nm laser\n",
    "1. Draw your wires with __1.0__ thick line\n",
    "2. For different qualities use the following doses:\n",
    "\n",
    "|quality|dose [mJ]|\n",
    "|:------|:------:|\n",
    "|Normal| 115|\n",
    "|Super| 170|\n",
    "\n",
    "#### Notes\n",
    "* _The dose may vary in a range of approx. 5 mJ_\n",
    "* f=0.1 SUPER q. takes approx. 64 minutes to write (the time depends on f linearly)\n",
    "* f=0.1 NORMAL q. takes approx. 27 minutes to write\n",
    "\n",
    "* SUPER q. fine and straight sidewalls, but also 10 periodicity\n",
    "* NORMAL q. rough sidewalls\n",
    "\n",
    "#### Disadvantages\n",
    "* long exposure time\n",
    "* samples are very sensitive on the surface imperfections (e. g. waves in glass)\n",
    "* 10px periodicity\n",
    "\n",
    "### Using 1um laser\n",
    "1. Draw your wires with __1.0__ thick line\n",
    "2. For different qualities and fill factors use the following doses:\n",
    "\n",
    "|quality|dose|row|width|\n",
    "|:------|:------|:----:|:---|\n",
    "|Normal f=0.28| 260|12|1206|\n",
    "|Normal f=0.65| 240|8|1197|\n",
    "\n",
    "#### Notes\n",
    "* SUPER quality is useless because of major 10px periodicity, the change in width could be more than 100 nm\n",
    "* The dose may vary\n",
    "* f=0.1 NORMAL q. takes approx. 17 minutes to write\n",
    "* rough sidewalls\n",
    "\n",
    "#### Advantages\n",
    "* much shorter exposure time\n",
    "* less sensitive on the surface imperfections - more stable results\n"
   ]
  },
  {
   "cell_type": "code",
   "execution_count": null,
   "metadata": {
    "collapsed": true
   },
   "outputs": [],
   "source": []
  }
 ],
 "metadata": {
  "kernelspec": {
   "display_name": "Python 3",
   "language": "python",
   "name": "python3"
  },
  "language_info": {
   "codemirror_mode": {
    "name": "ipython",
    "version": 3
   },
   "file_extension": ".py",
   "mimetype": "text/x-python",
   "name": "python",
   "nbconvert_exporter": "python",
   "pygments_lexer": "ipython3",
   "version": "3.6.3"
  }
 },
 "nbformat": 4,
 "nbformat_minor": 2
}
