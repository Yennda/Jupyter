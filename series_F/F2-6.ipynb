{
 "cells": [
  {
   "cell_type": "markdown",
   "metadata": {
    "collapsed": true
   },
   "source": [
    "# import numpy as np"
   ]
  },
  {
   "cell_type": "markdown",
   "metadata": {},
   "source": [
    "## F04\n",
    "Super, 250-350mJ, 21 rows, +5mJ per row, 1.2um   \n",
    "\n",
    "__useless__ 10px periodicity, change in width of 100nm"
   ]
  },
  {
   "cell_type": "markdown",
   "metadata": {},
   "source": [
    "## F05\n",
    "Normal,200-275mJ, 16rows, +5mJ per row, 1.2um \n",
    "* width is stable along the wire\n",
    "\n",
    "|quality|dose|row|width|\n",
    "|:------|:------|:----:|:---|\n",
    "|Normal f=0.28| 260|12|1206|\n",
    "|Normal f=0.65| 240|8|1197|"
   ]
  },
  {
   "cell_type": "markdown",
   "metadata": {},
   "source": [
    "## F06\n",
    "area of wires, Normal, 225mJ, f=0.333\n",
    "\n",
    "| | | |\n",
    "|:------|:------|:----:|\n",
    "|1118| 1144|1080|\n",
    "|1068|1072|1154|\n",
    "|1141|1204|1163|"
   ]
  },
  {
   "cell_type": "code",
   "execution_count": 4,
   "metadata": {},
   "outputs": [
    {
     "name": "stdout",
     "output_type": "stream",
     "text": [
      "1117.83333333\n",
      "1144.0\n",
      "1080.2\n",
      "1068.0\n",
      "1171.77777778\n",
      "1153.6\n",
      "1141.4\n",
      "1204.0\n",
      "1163.4\n",
      "average: 1138.2456790123456\n",
      "std dev: 40.93356337130723\n"
     ]
    }
   ],
   "source": [
    "cl=[1061,1097,1012,1085,1085]\n",
    "cm=[1195,1195,1146,1207,1158,1158,1158,1171,1158]\n",
    "cr=[1146, 1171, 1146, 1183, 1122]\n",
    "dl=[1110, 1134, 1146, 1158, 1159]\n",
    "dm=[1195, 1183, 1219, 1219]\n",
    "dr=[1171 ,1134, 1171, 1158, 1183]\n",
    "ul=[1122, 1134, 1110, 1146, 1110, 1085]\n",
    "um=[1098, 1183, 1146, 1110, 1183]\n",
    "ur=[1085, 1085, 1073, 1061, 1097]\n",
    "whole=[ul, um, ur, cl, cm, cr, dl, dm, dr]\n",
    "\n",
    "thickness = []\n",
    "for w in whole:\n",
    "    thickness.append(np.average(w))\n",
    "    print(np.average(w))\n",
    "    \n",
    "print('average: {}'.format(np.average(thickness)))    \n",
    "print('std dev: {}'.format(np.std(thickness)))"
   ]
  },
  {
   "cell_type": "code",
   "execution_count": null,
   "metadata": {
    "collapsed": true
   },
   "outputs": [],
   "source": []
  }
 ],
 "metadata": {
  "kernelspec": {
   "display_name": "Python 3",
   "language": "python",
   "name": "python3"
  },
  "language_info": {
   "codemirror_mode": {
    "name": "ipython",
    "version": 3
   },
   "file_extension": ".py",
   "mimetype": "text/x-python",
   "name": "python",
   "nbconvert_exporter": "python",
   "pygments_lexer": "ipython3",
   "version": "3.6.3"
  }
 },
 "nbformat": 4,
 "nbformat_minor": 2
}
