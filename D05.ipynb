{
 "cells": [
  {
   "cell_type": "code",
   "execution_count": 1,
   "metadata": {
    "collapsed": true
   },
   "outputs": [],
   "source": [
    "import numpy as np"
   ]
  },
  {
   "cell_type": "markdown",
   "metadata": {},
   "source": [
    "|DO5 |9. 1. 2018|\n",
    "|:------|:------|\n",
    "|Dose|145 mJ|\n",
    "|Quality| Normal  |\n",
    "|Wires| 1.2 um|\n",
    "|Gaps|1.2 um|\n",
    "|Exposure time| 122min  |\n",
    "|Development time| 60s  |\n",
    "|Focus correction| 0  |\n",
    "|Photoresist| only Shipley  |\n"
   ]
  },
  {
   "cell_type": "markdown",
   "metadata": {},
   "source": [
    "<div style='height:600px;text-align:center'>\n",
    "<img src='images/area_6x12/D05/01.jpg', width=400, style='position:absolute;left:0px;top:0px'>\n",
    "<img src='images/area_6x12/D05/02.jpg', width=400, style='position:absolute;right:0px;top:0px'>\n",
    "<img src='images/area_6x12/D05/03.jpg', width=400, style='position:absolute;left:0px;bottom:0px'>\n",
    "<img src='images/area_6x12/D05/04.jpg', width=400, style='position:absolute;right:0px;bottom:0px'>\n",
    "<img src='images/area_6x12/D05/05.jpg', width=400, style='position:absolute;left:350px;top:100px'>\n",
    "\n",
    "\n",
    "</div>"
   ]
  },
  {
   "cell_type": "markdown",
   "metadata": {},
   "source": [
    "## 1st corner"
   ]
  },
  {
   "cell_type": "code",
   "execution_count": 2,
   "metadata": {},
   "outputs": [
    {
     "name": "stdout",
     "output_type": "stream",
     "text": [
      "Wire width: 1.087um\n",
      "Standard deviation: 0.068um\n"
     ]
    }
   ],
   "source": [
    "ws=[0.9669, 1.091, 1.091, 1.112, 1.175]\n",
    "print('Wire width: {:.3f}um'.format(np.average(ws)))\n",
    "print('Standard deviation: {:.3f}um'.format(np.std(ws)))"
   ]
  },
  {
   "cell_type": "markdown",
   "metadata": {},
   "source": [
    "## 2st corner"
   ]
  },
  {
   "cell_type": "code",
   "execution_count": 3,
   "metadata": {},
   "outputs": [
    {
     "name": "stdout",
     "output_type": "stream",
     "text": [
      "Wire width: 1.122um\n",
      "Standard deviation: 0.061um\n"
     ]
    }
   ],
   "source": [
    "ws=[1.139, 1.153, 1.180, 1.153, 1.112, 1.017, 1.031, 1.194]\n",
    "print('Wire width: {:.3f}um'.format(np.average(ws)))\n",
    "print('Standard deviation: {:.3f}um'.format(np.std(ws)))"
   ]
  },
  {
   "cell_type": "markdown",
   "metadata": {},
   "source": [
    "## 3st corner"
   ]
  },
  {
   "cell_type": "code",
   "execution_count": 4,
   "metadata": {
    "scrolled": true
   },
   "outputs": [
    {
     "name": "stdout",
     "output_type": "stream",
     "text": [
      "Wire width: 1.255um\n",
      "Standard deviation: 0.022um\n"
     ]
    }
   ],
   "source": [
    "ws=[1.289, 1.275, 1.261, 1.234, 1.234, 1.235]\n",
    "print('Wire width: {:.3f}um'.format(np.average(ws)))\n",
    "print('Standard deviation: {:.3f}um'.format(np.std(ws)))"
   ]
  },
  {
   "cell_type": "markdown",
   "metadata": {},
   "source": [
    "## 4st corner"
   ]
  },
  {
   "cell_type": "code",
   "execution_count": 5,
   "metadata": {},
   "outputs": [
    {
     "name": "stdout",
     "output_type": "stream",
     "text": [
      "Wire width: 1.275um\n",
      "Standard deviation: 0.040um\n"
     ]
    }
   ],
   "source": [
    "ws=[1.302, 1.302, 1.316, 1.275, 1.207, 1.221, 1.302]\n",
    "print('Wire width: {:.3f}um'.format(np.average(ws)))\n",
    "print('Standard deviation: {:.3f}um'.format(np.std(ws)))"
   ]
  },
  {
   "cell_type": "markdown",
   "metadata": {},
   "source": [
    "## center"
   ]
  },
  {
   "cell_type": "code",
   "execution_count": 6,
   "metadata": {},
   "outputs": [
    {
     "name": "stdout",
     "output_type": "stream",
     "text": [
      "Wire width: 1.348um\n",
      "Standard deviation: 0.014um\n"
     ]
    }
   ],
   "source": [
    "ws=[1.370, 1.343, 1.356, 1.329, 1.343]\n",
    "print('Wire width: {:.3f}um'.format(np.average(ws)))\n",
    "print('Standard deviation: {:.3f}um'.format(np.std(ws)))"
   ]
  },
  {
   "cell_type": "code",
   "execution_count": null,
   "metadata": {
    "collapsed": true
   },
   "outputs": [],
   "source": []
  }
 ],
 "metadata": {
  "kernelspec": {
   "display_name": "Python 3",
   "language": "python",
   "name": "python3"
  },
  "language_info": {
   "codemirror_mode": {
    "name": "ipython",
    "version": 3
   },
   "file_extension": ".py",
   "mimetype": "text/x-python",
   "name": "python",
   "nbconvert_exporter": "python",
   "pygments_lexer": "ipython3",
   "version": "3.6.3"
  }
 },
 "nbformat": 4,
 "nbformat_minor": 2
}
