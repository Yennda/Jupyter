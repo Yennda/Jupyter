{
 "cells": [
  {
   "cell_type": "markdown",
   "metadata": {},
   "source": [
    "# B03, 04, 05 23. 11. 2017"
   ]
  },
  {
   "cell_type": "raw",
   "metadata": {},
   "source": [
    "Only Shipley\n",
    "Development time: 60 (70, 50) s\n",
    "Doses: 140-240mJ (probably)\n",
    "Focus correction: 0\n",
    "The best developement time is 60s, more or less is useless."
   ]
  },
  {
   "cell_type": "markdown",
   "metadata": {
    "collapsed": true
   },
   "source": [
    "## Lowest doses for <u> fine</u> wires"
   ]
  },
  {
   "cell_type": "raw",
   "metadata": {},
   "source": [
    "0.6 -> super 200mJ (C07) (0.7-0.9)\n",
    "       normal 140-150mJ (C01) (0.6-0.8 um)\n",
    "       \n",
    "0.8 -> super 170mJ (C04) (0.9 um)\n",
    "       normal 150mJ (C02) (0.8-0.9)\n",
    "\n",
    "1.2 -> super 160mJ (C03) (1.1-1.2 um)\n",
    "       normal 140-150mJ (C01-02) (1.2-1.3 um)"
   ]
  },
  {
   "cell_type": "raw",
   "metadata": {},
   "source": [
    "notes:\n",
    "compare normal and super quality ( dose, 10px-periodicity, width, ... )\n",
    "set the optimal dose (independantly on the B06)\n",
    "..."
   ]
  }
 ],
 "metadata": {
  "kernelspec": {
   "display_name": "Python 3",
   "language": "python",
   "name": "python3"
  },
  "language_info": {
   "codemirror_mode": {
    "name": "ipython",
    "version": 3
   },
   "file_extension": ".py",
   "mimetype": "text/x-python",
   "name": "python",
   "nbconvert_exporter": "python",
   "pygments_lexer": "ipython3",
   "version": "3.6.3"
  }
 },
 "nbformat": 4,
 "nbformat_minor": 2
}
