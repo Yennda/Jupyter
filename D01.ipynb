{
 "cells": [
  {
   "cell_type": "code",
   "execution_count": 1,
   "metadata": {
    "collapsed": true
   },
   "outputs": [],
   "source": [
    "import numpy as np"
   ]
  },
  {
   "cell_type": "markdown",
   "metadata": {},
   "source": [
    "|DO1 |5. 1. 2018|\n",
    "|:------|:------|\n",
    "|Dose|140 mJ|\n",
    "|Quality| Normal  |\n",
    "|Wires| 1.2 um|\n",
    "|Gaps|1.2|\n",
    "|Exposure time| 122min  |\n",
    "|Development time| 60s  |\n",
    "|Focus correction| 0  |\n",
    "|Photoresist| only Shipley  |\n"
   ]
  },
  {
   "cell_type": "markdown",
   "metadata": {},
   "source": [
    "|Place|width|\n",
    "|:------|:------|\n",
    "|1| 1.107|\n",
    "|2| 1.393|\n",
    "|3| 1.145|\n",
    "|4| 1.321|\n",
    "|center| 1.388|\n"
   ]
  },
  {
   "cell_type": "markdown",
   "metadata": {},
   "source": [
    "<div style='height:600px;text-align:center'>\n",
    "<img src='images/area_6x12/D01/01.jpg', width=400, style='position:absolute;left:0px;top:0px'>\n",
    "<img src='images/area_6x12/D01/02.jpg', width=400, style='position:absolute;right:0px;top:0px'>\n",
    "<img src='images/area_6x12/D01/03.jpg', width=400, style='position:absolute;left:0px;bottom:0px'>\n",
    "<img src='images/area_6x12/D01/04.jpg', width=400, style='position:absolute;right:0px;bottom:0px'>\n",
    "<img src='images/area_6x12/D01/05.jpg', width=400, style='position:absolute;left:350px;top:100px'>\n",
    "\n",
    "\n",
    "</div>"
   ]
  },
  {
   "cell_type": "markdown",
   "metadata": {},
   "source": [
    "## 1st corner"
   ]
  },
  {
   "cell_type": "code",
   "execution_count": 9,
   "metadata": {},
   "outputs": [
    {
     "name": "stdout",
     "output_type": "stream",
     "text": [
      "Wire width: 1.107um\n",
      "Standard deviation: 0.035um\n"
     ]
    }
   ],
   "source": [
    "ws=[1.144, 1.095, 1.118, 1.037, 1.118, 1.130]\n",
    "print('Wire width: {:.3f}um'.format(np.average(ws)))\n",
    "print('Standard deviation: {:.3f}um'.format(np.std(ws)))\n"
   ]
  },
  {
   "cell_type": "markdown",
   "metadata": {},
   "source": [
    "## 2st corner"
   ]
  },
  {
   "cell_type": "code",
   "execution_count": 3,
   "metadata": {},
   "outputs": [
    {
     "name": "stdout",
     "output_type": "stream",
     "text": [
      "Wire width: 1.393um\n",
      "Standard deviation: 0.048um\n"
     ]
    }
   ],
   "source": [
    "ws=[1.459, 1.380, 1.326, 1.406]\n",
    "print('Wire width: {:.3f}um'.format(np.average(ws)))\n",
    "print('Standard deviation: {:.3f}um'.format(np.std(ws)))"
   ]
  },
  {
   "cell_type": "markdown",
   "metadata": {},
   "source": [
    "## 3st corner"
   ]
  },
  {
   "cell_type": "code",
   "execution_count": 4,
   "metadata": {
    "scrolled": true
   },
   "outputs": [
    {
     "name": "stdout",
     "output_type": "stream",
     "text": [
      "Wire width: 1.145um\n",
      "Standard deviation: 0.025um\n"
     ]
    }
   ],
   "source": [
    "ws=[1.1456, 1.145, 1.101, 1.1741, 1.160]\n",
    "print('Wire width: {:.3f}um'.format(np.average(ws)))\n",
    "print('Standard deviation: {:.3f}um'.format(np.std(ws)))"
   ]
  },
  {
   "cell_type": "markdown",
   "metadata": {},
   "source": [
    "## 4st corner"
   ]
  },
  {
   "cell_type": "code",
   "execution_count": 5,
   "metadata": {},
   "outputs": [
    {
     "name": "stdout",
     "output_type": "stream",
     "text": [
      "Wire width: 1.321um\n",
      "Standard deviation: 0.062um\n"
     ]
    }
   ],
   "source": [
    "ws=[1.270, 1.412, 1.364, 1.317, 1.223, 1.341]\n",
    "print('Wire width: {:.3f}um'.format(np.average(ws)))\n",
    "print('Standard deviation: {:.3f}um'.format(np.std(ws)))"
   ]
  },
  {
   "cell_type": "markdown",
   "metadata": {},
   "source": [
    "## center"
   ]
  },
  {
   "cell_type": "code",
   "execution_count": 6,
   "metadata": {},
   "outputs": [
    {
     "name": "stdout",
     "output_type": "stream",
     "text": [
      "Wire width: 1.388um\n",
      "Standard deviation: 0.042um\n"
     ]
    }
   ],
   "source": [
    "ws=[1.456, 1.388, 1.365, 1.317, 1.412, 1.388]\n",
    "print('Wire width: {:.3f}um'.format(np.average(ws)))\n",
    "print('Standard deviation: {:.3f}um'.format(np.std(ws)))"
   ]
  },
  {
   "cell_type": "code",
   "execution_count": null,
   "metadata": {
    "collapsed": true
   },
   "outputs": [],
   "source": []
  }
 ],
 "metadata": {
  "kernelspec": {
   "display_name": "Python 3",
   "language": "python",
   "name": "python3"
  },
  "language_info": {
   "codemirror_mode": {
    "name": "ipython",
    "version": 3
   },
   "file_extension": ".py",
   "mimetype": "text/x-python",
   "name": "python",
   "nbconvert_exporter": "python",
   "pygments_lexer": "ipython3",
   "version": "3.6.3"
  }
 },
 "nbformat": 4,
 "nbformat_minor": 2
}
