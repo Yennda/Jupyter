{
 "cells": [
  {
   "cell_type": "code",
   "execution_count": 2,
   "metadata": {
    "collapsed": true
   },
   "outputs": [],
   "source": [
    "import numpy as np"
   ]
  },
  {
   "cell_type": "markdown",
   "metadata": {},
   "source": [
    "|DO4 |8. 1. 2018|\n",
    "|:------|:------|\n",
    "|Dose|175 mJ|\n",
    "|Quality| Super  |\n",
    "|Wires| 1.2 um|\n",
    "|Gaps|1.2 um|\n",
    "|Exposure time| 352min  |\n",
    "|Development time| 60s  |\n",
    "|Focus correction| 0  |\n",
    "|Photoresist| only Shipley  |\n"
   ]
  },
  {
   "cell_type": "markdown",
   "metadata": {},
   "source": [
    "<div style='height:600px;text-align:center'>\n",
    "<img src='images/area_6x12/D04/01.jpg', width=400, style='position:absolute;left:0px;top:0px'>\n",
    "<img src='images/area_6x12/D04/02.jpg', width=400, style='position:absolute;right:0px;top:0px'>\n",
    "<img src='images/area_6x12/D04/03.jpg', width=400, style='position:absolute;left:0px;bottom:0px'>\n",
    "<img src='images/area_6x12/D04/04.jpg', width=400, style='position:absolute;right:0px;bottom:0px'>\n",
    "<img src='images/area_6x12/D04/05.jpg', width=400, style='position:absolute;left:350px;top:100px'>\n",
    "\n",
    "\n",
    "</div>"
   ]
  },
  {
   "cell_type": "markdown",
   "metadata": {},
   "source": [
    "## 1st corner"
   ]
  },
  {
   "cell_type": "code",
   "execution_count": 9,
   "metadata": {},
   "outputs": [
    {
     "name": "stdout",
     "output_type": "stream",
     "text": [
      "Wire width: 0.626um\n",
      "Standard deviation: 0.221um\n"
     ]
    }
   ],
   "source": [
    "ws=[548, 830, 877, 658, 266, 845, 313, 673]\n",
    "ws=[w/1000 for w in ws]\n",
    "print('Wire width: {:.3f}um'.format(np.average(ws)))\n",
    "print('Standard deviation: {:.3f}um'.format(np.std(ws)))"
   ]
  },
  {
   "cell_type": "markdown",
   "metadata": {},
   "source": [
    "## 2st corner"
   ]
  },
  {
   "cell_type": "code",
   "execution_count": 10,
   "metadata": {},
   "outputs": [
    {
     "name": "stdout",
     "output_type": "stream",
     "text": [
      "Wire width: 1.010um\n",
      "Standard deviation: 0.055um\n"
     ]
    }
   ],
   "source": [
    "ws=[1.045, 1.06, 0.999, 1.03, 1.03, 0.893]\n",
    "print('Wire width: {:.3f}um'.format(np.average(ws)))\n",
    "print('Standard deviation: {:.3f}um'.format(np.std(ws)))"
   ]
  },
  {
   "cell_type": "markdown",
   "metadata": {},
   "source": [
    "## 3st corner"
   ]
  },
  {
   "cell_type": "code",
   "execution_count": 11,
   "metadata": {
    "scrolled": true
   },
   "outputs": [
    {
     "name": "stdout",
     "output_type": "stream",
     "text": [
      "Wire width: 1.181um\n",
      "Standard deviation: 0.036um\n"
     ]
    }
   ],
   "source": [
    "ws=[1.167, 1.213, 1.167, 1.213, 1.19, 1.19, 1.213, 1.099]\n",
    "print('Wire width: {:.3f}um'.format(np.average(ws)))\n",
    "print('Standard deviation: {:.3f}um'.format(np.std(ws)))"
   ]
  },
  {
   "cell_type": "markdown",
   "metadata": {},
   "source": [
    "## 4st corner"
   ]
  },
  {
   "cell_type": "code",
   "execution_count": 12,
   "metadata": {},
   "outputs": [
    {
     "name": "stdout",
     "output_type": "stream",
     "text": [
      "Wire width: 1.145um\n",
      "Standard deviation: 0.082um\n"
     ]
    }
   ],
   "source": [
    "ws=[1.2, 1.219, 1.09, 1.09, 1.09, 0.979, 1.237, 1.182, 1.219]\n",
    "print('Wire width: {:.3f}um'.format(np.average(ws)))\n",
    "print('Standard deviation: {:.3f}um'.format(np.std(ws)))"
   ]
  },
  {
   "cell_type": "markdown",
   "metadata": {},
   "source": [
    "## center"
   ]
  },
  {
   "cell_type": "code",
   "execution_count": 14,
   "metadata": {},
   "outputs": [
    {
     "name": "stdout",
     "output_type": "stream",
     "text": [
      "Wire width: 1.423um\n",
      "Standard deviation: 0.047um\n"
     ]
    }
   ],
   "source": [
    "ws=[1.385, 1.44, 1.477, 1.348, 1.367, 1.459, 1.403, 1.49, 1.44]\n",
    "print('Wire width: {:.3f}um'.format(np.average(ws)))\n",
    "print('Standard deviation: {:.3f}um'.format(np.std(ws)))"
   ]
  },
  {
   "cell_type": "code",
   "execution_count": null,
   "metadata": {
    "collapsed": true
   },
   "outputs": [],
   "source": []
  },
  {
   "cell_type": "code",
   "execution_count": null,
   "metadata": {
    "collapsed": true
   },
   "outputs": [],
   "source": []
  }
 ],
 "metadata": {
  "kernelspec": {
   "display_name": "Python 3",
   "language": "python",
   "name": "python3"
  },
  "language_info": {
   "codemirror_mode": {
    "name": "ipython",
    "version": 3
   },
   "file_extension": ".py",
   "mimetype": "text/x-python",
   "name": "python",
   "nbconvert_exporter": "python",
   "pygments_lexer": "ipython3",
   "version": "3.6.3"
  }
 },
 "nbformat": 4,
 "nbformat_minor": 2
}
